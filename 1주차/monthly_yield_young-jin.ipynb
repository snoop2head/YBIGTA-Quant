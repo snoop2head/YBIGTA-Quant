{
 "cells": [
  {
   "cell_type": "markdown",
   "source": [
    "2. KOSPI에 계절성이 존재하는가? KOSPI에 매수하기 좋은 달과 매도하기 좋은 달이 있을까? 4월에 매수하기 좋고 9월에 매도하기 좋다는데 월별 추이가 맞을까? 확인해오기. \n",
    "(https://www.notion.so/snoop2head/YIG-fa8cdeb837d9456baf16ee64d3c055d7)"
   ],
   "metadata": {}
  },
  {
   "cell_type": "code",
   "execution_count": 19,
   "source": [
    "# 데이터 분석을 위한 pandas, 시각화를 위한 matplotlib, 주가 데이터 수집을 위한 FinanceDataReader\n",
    "import pandas as pd\n",
    "import matplotlib.pyplot as plt\n",
    "import FinanceDataReader as fdr"
   ],
   "outputs": [],
   "metadata": {}
  },
  {
   "cell_type": "code",
   "execution_count": 20,
   "source": [
    "# get KOSPI dataset (starts from 2015)\n",
    "df = fdr.DataReader('KS11', '1980-01-01') # 코스피\n",
    "df.shape"
   ],
   "outputs": [
    {
     "output_type": "execute_result",
     "data": {
      "text/plain": [
       "(10762, 6)"
      ]
     },
     "metadata": {},
     "execution_count": 20
    }
   ],
   "metadata": {}
  },
  {
   "cell_type": "code",
   "execution_count": 21,
   "source": [
    "# 일별 시세 미리보기\n",
    "df.head()"
   ],
   "outputs": [
    {
     "output_type": "execute_result",
     "data": {
      "text/plain": [
       "            Close   Open   High    Low     Volume  Change\n",
       "Date                                                     \n",
       "1981-05-01  123.6  123.6  123.6  123.6  3330000.0  0.0098\n",
       "1981-05-02  123.5  123.5  123.5  123.5  2040000.0 -0.0008\n",
       "1981-05-04  120.6  120.6  120.6  120.6  1930000.0 -0.0235\n",
       "1981-05-06  120.7  120.7  120.7  120.7  1690000.0  0.0008\n",
       "1981-05-07  119.3  119.3  119.3  119.3  1480000.0 -0.0116"
      ],
      "text/html": [
       "<div>\n",
       "<style scoped>\n",
       "    .dataframe tbody tr th:only-of-type {\n",
       "        vertical-align: middle;\n",
       "    }\n",
       "\n",
       "    .dataframe tbody tr th {\n",
       "        vertical-align: top;\n",
       "    }\n",
       "\n",
       "    .dataframe thead th {\n",
       "        text-align: right;\n",
       "    }\n",
       "</style>\n",
       "<table border=\"1\" class=\"dataframe\">\n",
       "  <thead>\n",
       "    <tr style=\"text-align: right;\">\n",
       "      <th></th>\n",
       "      <th>Close</th>\n",
       "      <th>Open</th>\n",
       "      <th>High</th>\n",
       "      <th>Low</th>\n",
       "      <th>Volume</th>\n",
       "      <th>Change</th>\n",
       "    </tr>\n",
       "    <tr>\n",
       "      <th>Date</th>\n",
       "      <th></th>\n",
       "      <th></th>\n",
       "      <th></th>\n",
       "      <th></th>\n",
       "      <th></th>\n",
       "      <th></th>\n",
       "    </tr>\n",
       "  </thead>\n",
       "  <tbody>\n",
       "    <tr>\n",
       "      <th>1981-05-01</th>\n",
       "      <td>123.6</td>\n",
       "      <td>123.6</td>\n",
       "      <td>123.6</td>\n",
       "      <td>123.6</td>\n",
       "      <td>3330000.0</td>\n",
       "      <td>0.0098</td>\n",
       "    </tr>\n",
       "    <tr>\n",
       "      <th>1981-05-02</th>\n",
       "      <td>123.5</td>\n",
       "      <td>123.5</td>\n",
       "      <td>123.5</td>\n",
       "      <td>123.5</td>\n",
       "      <td>2040000.0</td>\n",
       "      <td>-0.0008</td>\n",
       "    </tr>\n",
       "    <tr>\n",
       "      <th>1981-05-04</th>\n",
       "      <td>120.6</td>\n",
       "      <td>120.6</td>\n",
       "      <td>120.6</td>\n",
       "      <td>120.6</td>\n",
       "      <td>1930000.0</td>\n",
       "      <td>-0.0235</td>\n",
       "    </tr>\n",
       "    <tr>\n",
       "      <th>1981-05-06</th>\n",
       "      <td>120.7</td>\n",
       "      <td>120.7</td>\n",
       "      <td>120.7</td>\n",
       "      <td>120.7</td>\n",
       "      <td>1690000.0</td>\n",
       "      <td>0.0008</td>\n",
       "    </tr>\n",
       "    <tr>\n",
       "      <th>1981-05-07</th>\n",
       "      <td>119.3</td>\n",
       "      <td>119.3</td>\n",
       "      <td>119.3</td>\n",
       "      <td>119.3</td>\n",
       "      <td>1480000.0</td>\n",
       "      <td>-0.0116</td>\n",
       "    </tr>\n",
       "  </tbody>\n",
       "</table>\n",
       "</div>"
      ]
     },
     "metadata": {},
     "execution_count": 21
    }
   ],
   "metadata": {}
  },
  {
   "cell_type": "code",
   "execution_count": 22,
   "source": [
    "df.tail()"
   ],
   "outputs": [
    {
     "output_type": "execute_result",
     "data": {
      "text/plain": [
       "              Close     Open     High      Low       Volume  Change\n",
       "Date                                                               \n",
       "2021-08-02  3223.04  3218.42  3223.04  3194.00  561000000.0  0.0065\n",
       "2021-08-03  3237.14  3221.57  3237.14  3213.20  653510000.0  0.0044\n",
       "2021-08-04  3280.38  3246.65  3283.14  3237.55  632240000.0  0.0134\n",
       "2021-08-05  3276.13  3283.25  3296.17  3273.33  680940000.0 -0.0013\n",
       "2021-08-06  3270.36  3277.06  3288.17  3261.93     930910.0 -0.0018"
      ],
      "text/html": [
       "<div>\n",
       "<style scoped>\n",
       "    .dataframe tbody tr th:only-of-type {\n",
       "        vertical-align: middle;\n",
       "    }\n",
       "\n",
       "    .dataframe tbody tr th {\n",
       "        vertical-align: top;\n",
       "    }\n",
       "\n",
       "    .dataframe thead th {\n",
       "        text-align: right;\n",
       "    }\n",
       "</style>\n",
       "<table border=\"1\" class=\"dataframe\">\n",
       "  <thead>\n",
       "    <tr style=\"text-align: right;\">\n",
       "      <th></th>\n",
       "      <th>Close</th>\n",
       "      <th>Open</th>\n",
       "      <th>High</th>\n",
       "      <th>Low</th>\n",
       "      <th>Volume</th>\n",
       "      <th>Change</th>\n",
       "    </tr>\n",
       "    <tr>\n",
       "      <th>Date</th>\n",
       "      <th></th>\n",
       "      <th></th>\n",
       "      <th></th>\n",
       "      <th></th>\n",
       "      <th></th>\n",
       "      <th></th>\n",
       "    </tr>\n",
       "  </thead>\n",
       "  <tbody>\n",
       "    <tr>\n",
       "      <th>2021-08-02</th>\n",
       "      <td>3223.04</td>\n",
       "      <td>3218.42</td>\n",
       "      <td>3223.04</td>\n",
       "      <td>3194.00</td>\n",
       "      <td>561000000.0</td>\n",
       "      <td>0.0065</td>\n",
       "    </tr>\n",
       "    <tr>\n",
       "      <th>2021-08-03</th>\n",
       "      <td>3237.14</td>\n",
       "      <td>3221.57</td>\n",
       "      <td>3237.14</td>\n",
       "      <td>3213.20</td>\n",
       "      <td>653510000.0</td>\n",
       "      <td>0.0044</td>\n",
       "    </tr>\n",
       "    <tr>\n",
       "      <th>2021-08-04</th>\n",
       "      <td>3280.38</td>\n",
       "      <td>3246.65</td>\n",
       "      <td>3283.14</td>\n",
       "      <td>3237.55</td>\n",
       "      <td>632240000.0</td>\n",
       "      <td>0.0134</td>\n",
       "    </tr>\n",
       "    <tr>\n",
       "      <th>2021-08-05</th>\n",
       "      <td>3276.13</td>\n",
       "      <td>3283.25</td>\n",
       "      <td>3296.17</td>\n",
       "      <td>3273.33</td>\n",
       "      <td>680940000.0</td>\n",
       "      <td>-0.0013</td>\n",
       "    </tr>\n",
       "    <tr>\n",
       "      <th>2021-08-06</th>\n",
       "      <td>3270.36</td>\n",
       "      <td>3277.06</td>\n",
       "      <td>3288.17</td>\n",
       "      <td>3261.93</td>\n",
       "      <td>930910.0</td>\n",
       "      <td>-0.0018</td>\n",
       "    </tr>\n",
       "  </tbody>\n",
       "</table>\n",
       "</div>"
      ]
     },
     "metadata": {},
     "execution_count": 22
    }
   ],
   "metadata": {}
  },
  {
   "cell_type": "code",
   "execution_count": 23,
   "source": [
    "# resample by month and get monthly mean\n",
    "# Year-Month-Date\n",
    "\n",
    "df[\"Close\"].resample(\"M\").mean()"
   ],
   "outputs": [
    {
     "output_type": "execute_result",
     "data": {
      "text/plain": [
       "Date\n",
       "1981-05-31     121.766667\n",
       "1981-06-30     137.104000\n",
       "1981-07-31     154.842308\n",
       "1981-08-31     145.368000\n",
       "1981-09-30     141.528000\n",
       "                 ...     \n",
       "2021-04-30    3165.083182\n",
       "2021-05-31    3169.200526\n",
       "2021-06-30    3259.140000\n",
       "2021-07-31    3254.573182\n",
       "2021-08-31    3257.410000\n",
       "Freq: M, Name: Close, Length: 484, dtype: float64"
      ]
     },
     "metadata": {},
     "execution_count": 23
    }
   ],
   "metadata": {}
  },
  {
   "cell_type": "code",
   "execution_count": 24,
   "source": [
    "# visualize monthly mean as line chart\n",
    "df[\"Close\"].resample(\"M\").mean().plot()"
   ],
   "outputs": [
    {
     "output_type": "execute_result",
     "data": {
      "text/plain": [
       "<AxesSubplot:xlabel='Date'>"
      ]
     },
     "metadata": {},
     "execution_count": 24
    },
    {
     "output_type": "display_data",
     "data": {
      "text/plain": [
       "<Figure size 432x288 with 1 Axes>"
      ],
      "image/png": "[encoded data removed]"
     },
     "metadata": {
      "needs_background": "light"
     }
    }
   ],
   "metadata": {}
  },
  {
   "cell_type": "code",
   "execution_count": 34,
   "source": [
    "df[\"Close\"].resample(\"M\").mean().diff()"
   ],
   "outputs": [
    {
     "output_type": "execute_result",
     "data": {
      "text/plain": [
       "Date\n",
       "1981-05-31           NaN\n",
       "1981-06-30     15.337333\n",
       "1981-07-31     17.738308\n",
       "1981-08-31     -9.474308\n",
       "1981-09-30     -3.840000\n",
       "                 ...    \n",
       "2021-04-30    132.614091\n",
       "2021-05-31      4.117344\n",
       "2021-06-30     89.939474\n",
       "2021-07-31     -4.566818\n",
       "2021-08-31      2.836818\n",
       "Freq: M, Name: Close, Length: 484, dtype: float64"
      ]
     },
     "metadata": {},
     "execution_count": 34
    }
   ],
   "metadata": {}
  },
  {
   "cell_type": "code",
   "execution_count": null,
   "source": [
    "def first_day(entry):\n",
    "    return entry[0]\n",
    "\n",
    "beginning_price = KS_close.resample('M').apply(first_day)"
   ],
   "outputs": [],
   "metadata": {}
  },
  {
   "cell_type": "code",
   "execution_count": 36,
   "source": [
    "df[\"Close\"].resample(\"M\").median().pct_change()\n",
    "# percent change라는 함수를 쓰기 전에, "
   ],
   "outputs": [
    {
     "output_type": "execute_result",
     "data": {
      "text/plain": [
       "Date\n",
       "1981-05-31         NaN\n",
       "1981-06-30    0.141680\n",
       "1981-07-31    0.122655\n",
       "1981-08-31   -0.070694\n",
       "1981-09-30   -0.017981\n",
       "                ...   \n",
       "2021-04-30    0.043613\n",
       "2021-05-31   -0.002318\n",
       "2021-06-30    0.028390\n",
       "2021-07-31   -0.001209\n",
       "2021-08-31    0.005817\n",
       "Freq: M, Name: Close, Length: 484, dtype: float64"
      ]
     },
     "metadata": {},
     "execution_count": 36
    }
   ],
   "metadata": {}
  },
  {
   "cell_type": "code",
   "execution_count": 25,
   "source": [
    "# get percent change of monthly mean\n",
    "month_change =  df[\"Close\"].resample(\"M\").mean().pct_change()\n",
    "month_change.plot(figsize=(10, 4))\n",
    "\n",
    "# notate month on x axis plot\n",
    "plt.axhline(0, c=\"k\", lw=1)"
   ],
   "outputs": [
    {
     "output_type": "execute_result",
     "data": {
      "text/plain": [
       "<matplotlib.lines.Line2D at 0x126fed700>"
      ]
     },
     "metadata": {},
     "execution_count": 25
    },
    {
     "output_type": "display_data",
     "data": {
      "text/plain": [
       "<Figure size 720x288 with 1 Axes>"
      ],
      "image/png": "[encoded data removed]"
     },
     "metadata": {
      "needs_background": "light"
     }
    }
   ],
   "metadata": {}
  },
  {
   "cell_type": "code",
   "execution_count": 26,
   "source": [
    "# group by month and summate \n",
    "sum_monthly_change = month_change.groupby([lambda x: x.month]).sum()\n",
    "sum_monthly_change"
   ],
   "outputs": [
    {
     "output_type": "execute_result",
     "data": {
      "text/plain": [
       "1     0.765839\n",
       "2     0.415786\n",
       "3     0.076850\n",
       "4     0.857306\n",
       "5    -0.068459\n",
       "6     0.408601\n",
       "7     0.567109\n",
       "8    -0.201358\n",
       "9    -0.081023\n",
       "10    0.040587\n",
       "11    0.697098\n",
       "12    0.705940\n",
       "Name: Close, dtype: float64"
      ]
     },
     "metadata": {},
     "execution_count": 26
    }
   ],
   "metadata": {}
  },
  {
   "cell_type": "code",
   "execution_count": 27,
   "source": [
    "# visualize monthly change on a bar chart\n",
    "sum_monthly_change.plot(kind=\"bar\", figsize=(10, 4))\n",
    "# set axis labels as month name\n",
    "plt.xticks(range(0,12), [\"Jan\", \"Feb\", \"Mar\", \"Apr\", \"May\", \"Jun\", \"Jul\", \"Aug\", \"Sep\", \"Oct\", \"Nov\", \"Dec\"])"
   ],
   "outputs": [
    {
     "output_type": "execute_result",
     "data": {
      "text/plain": [
       "([<matplotlib.axis.XTick at 0x127093b80>,\n",
       "  <matplotlib.axis.XTick at 0x127093b50>,\n",
       "  <matplotlib.axis.XTick at 0x127159d60>,\n",
       "  <matplotlib.axis.XTick at 0x127175c70>,\n",
       "  <matplotlib.axis.XTick at 0x12724c400>,\n",
       "  <matplotlib.axis.XTick at 0x12724cb50>,\n",
       "  <matplotlib.axis.XTick at 0x1272432e0>,\n",
       "  <matplotlib.axis.XTick at 0x12724c6d0>,\n",
       "  <matplotlib.axis.XTick at 0x1270933a0>,\n",
       "  <matplotlib.axis.XTick at 0x127243dc0>,\n",
       "  <matplotlib.axis.XTick at 0x12724d550>,\n",
       "  <matplotlib.axis.XTick at 0x12724dca0>],\n",
       " [Text(0, 0, 'Jan'),\n",
       "  Text(1, 0, 'Feb'),\n",
       "  Text(2, 0, 'Mar'),\n",
       "  Text(3, 0, 'Apr'),\n",
       "  Text(4, 0, 'May'),\n",
       "  Text(5, 0, 'Jun'),\n",
       "  Text(6, 0, 'Jul'),\n",
       "  Text(7, 0, 'Aug'),\n",
       "  Text(8, 0, 'Sep'),\n",
       "  Text(9, 0, 'Oct'),\n",
       "  Text(10, 0, 'Nov'),\n",
       "  Text(11, 0, 'Dec')])"
      ]
     },
     "metadata": {},
     "execution_count": 27
    },
    {
     "output_type": "display_data",
     "data": {
      "text/plain": [
       "<Figure size 720x288 with 1 Axes>"
      ],
      "image/png": "[encoded data removed]"
     },
     "metadata": {
      "needs_background": "light"
     }
    }
   ],
   "metadata": {}
  },
  {
   "cell_type": "code",
   "execution_count": 28,
   "source": [
    "percent_month_change = month_change + 1\n",
    "percent_month_change"
   ],
   "outputs": [
    {
     "output_type": "execute_result",
     "data": {
      "text/plain": [
       "Date\n",
       "1981-05-31         NaN\n",
       "1981-06-30    1.125957\n",
       "1981-07-31    1.129378\n",
       "1981-08-31    0.938813\n",
       "1981-09-30    0.973584\n",
       "                ...   \n",
       "2021-04-30    1.043731\n",
       "2021-05-31    1.001301\n",
       "2021-06-30    1.028379\n",
       "2021-07-31    0.998599\n",
       "2021-08-31    1.000872\n",
       "Freq: M, Name: Close, Length: 484, dtype: float64"
      ]
     },
     "metadata": {},
     "execution_count": 28
    }
   ],
   "metadata": {}
  },
  {
   "cell_type": "code",
   "execution_count": 29,
   "source": [
    "# group by month and multiply \n",
    "multiplied_monthly_change = percent_month_change.groupby([lambda x: x.month]).prod()\n",
    "multiplied_monthly_change"
   ],
   "outputs": [
    {
     "output_type": "execute_result",
     "data": {
      "text/plain": [
       "1     1.952218\n",
       "2     1.442206\n",
       "3     1.014087\n",
       "4     2.145796\n",
       "5     0.873107\n",
       "6     1.395961\n",
       "7     1.638424\n",
       "8     0.776758\n",
       "9     0.879209\n",
       "10    0.952835\n",
       "11    1.814008\n",
       "12    1.852351\n",
       "Name: Close, dtype: float64"
      ]
     },
     "metadata": {},
     "execution_count": 29
    }
   ],
   "metadata": {}
  },
  {
   "cell_type": "code",
   "execution_count": 30,
   "source": [
    "# visualize monthly change on a bar chart\n",
    "multiplied_monthly_change_plot = multiplied_monthly_change - 1\n",
    "multiplied_monthly_change_plot.plot(kind=\"bar\", figsize=(10, 4))\n",
    "# set axis labels as month name\n",
    "plt.xticks(range(0,12), [\"Jan\", \"Feb\", \"Mar\", \"Apr\", \"May\", \"Jun\", \"Jul\", \"Aug\", \"Sep\", \"Oct\", \"Nov\", \"Dec\"])"
   ],
   "outputs": [
    {
     "output_type": "execute_result",
     "data": {
      "text/plain": [
       "([<matplotlib.axis.XTick at 0x1278472e0>,\n",
       "  <matplotlib.axis.XTick at 0x1278472b0>,\n",
       "  <matplotlib.axis.XTick at 0x1277fbeb0>,\n",
       "  <matplotlib.axis.XTick at 0x1272b5430>,\n",
       "  <matplotlib.axis.XTick at 0x1272b5b80>,\n",
       "  <matplotlib.axis.XTick at 0x1272ac310>,\n",
       "  <matplotlib.axis.XTick at 0x1272b5eb0>,\n",
       "  <matplotlib.axis.XTick at 0x1272acaf0>,\n",
       "  <matplotlib.axis.XTick at 0x127277eb0>,\n",
       "  <matplotlib.axis.XTick at 0x1272a4730>,\n",
       "  <matplotlib.axis.XTick at 0x1272a4cd0>,\n",
       "  <matplotlib.axis.XTick at 0x12729f520>],\n",
       " [Text(0, 0, 'Jan'),\n",
       "  Text(1, 0, 'Feb'),\n",
       "  Text(2, 0, 'Mar'),\n",
       "  Text(3, 0, 'Apr'),\n",
       "  Text(4, 0, 'May'),\n",
       "  Text(5, 0, 'Jun'),\n",
       "  Text(6, 0, 'Jul'),\n",
       "  Text(7, 0, 'Aug'),\n",
       "  Text(8, 0, 'Sep'),\n",
       "  Text(9, 0, 'Oct'),\n",
       "  Text(10, 0, 'Nov'),\n",
       "  Text(11, 0, 'Dec')])"
      ]
     },
     "metadata": {},
     "execution_count": 30
    },
    {
     "output_type": "display_data",
     "data": {
      "text/plain": [
       "<Figure size 720x288 with 1 Axes>"
      ],
      "image/png": "[encoded data removed]"
     },
     "metadata": {
      "needs_background": "light"
     }
    }
   ],
   "metadata": {}
  },
  {
   "cell_type": "code",
   "execution_count": 37,
   "source": [
    "# show information about dataframe\n",
    "df.info()\n"
   ],
   "outputs": [
    {
     "output_type": "stream",
     "name": "stdout",
     "text": [
      "<class 'pandas.core.frame.DataFrame'>\n",
      "DatetimeIndex: 10762 entries, 1981-05-01 to 2021-08-06\n",
      "Data columns (total 6 columns):\n",
      " #   Column  Non-Null Count  Dtype  \n",
      "---  ------  --------------  -----  \n",
      " 0   Close   10762 non-null  float64\n",
      " 1   Open    10762 non-null  float64\n",
      " 2   High    10762 non-null  float64\n",
      " 3   Low     10762 non-null  float64\n",
      " 4   Volume  10762 non-null  float64\n",
      " 5   Change  10762 non-null  float64\n",
      "dtypes: float64(6)\n",
      "memory usage: 588.5 KB\n"
     ]
    }
   ],
   "metadata": {}
  },
  {
   "cell_type": "code",
   "execution_count": 39,
   "source": [
    "# show monthly changes of the dataframe value\n",
    "df.resample(\"M\").mean().diff()"
   ],
   "outputs": [
    {
     "output_type": "execute_result",
     "data": {
      "text/plain": [
       "                 Close        Open        High         Low        Volume  \\\n",
       "Date                                                                       \n",
       "1981-05-31         NaN         NaN         NaN         NaN           NaN   \n",
       "1981-06-30   15.337333   15.337333   15.337333   15.337333  8.670083e+05   \n",
       "1981-07-31   17.738308   17.738308   17.738308   17.738308 -7.358769e+05   \n",
       "1981-08-31   -9.474308   -9.474308   -9.474308   -9.474308 -7.538831e+05   \n",
       "1981-09-30   -3.840000   -3.840000   -3.840000   -3.840000 -5.236000e+04   \n",
       "...                ...         ...         ...         ...           ...   \n",
       "2021-04-30  132.614091  131.620455  123.045455  139.362273  1.429773e+08   \n",
       "2021-05-31    4.117344    4.483062    8.946244   -2.705502 -4.228484e+08   \n",
       "2021-06-30   89.939474   87.953301   82.653301   98.350048  6.182729e+08   \n",
       "2021-07-31   -4.566818    4.773636   -0.315455   -2.020000 -6.455762e+08   \n",
       "2021-08-31    2.836818  -11.632727   -4.041636   -7.584364 -4.555178e+08   \n",
       "\n",
       "              Change  \n",
       "Date                  \n",
       "1981-05-31       NaN  \n",
       "1981-06-30  0.005879  \n",
       "1981-07-31 -0.007777  \n",
       "1981-08-31 -0.001595  \n",
       "1981-09-30 -0.000072  \n",
       "...              ...  \n",
       "2021-04-30  0.000509  \n",
       "2021-05-31 -0.000323  \n",
       "2021-06-30  0.000346  \n",
       "2021-07-31 -0.002595  \n",
       "2021-08-31  0.005526  \n",
       "\n",
       "[484 rows x 6 columns]"
      ],
      "text/html": [
       "<div>\n",
       "<style scoped>\n",
       "    .dataframe tbody tr th:only-of-type {\n",
       "        vertical-align: middle;\n",
       "    }\n",
       "\n",
       "    .dataframe tbody tr th {\n",
       "        vertical-align: top;\n",
       "    }\n",
       "\n",
       "    .dataframe thead th {\n",
       "        text-align: right;\n",
       "    }\n",
       "</style>\n",
       "<table border=\"1\" class=\"dataframe\">\n",
       "  <thead>\n",
       "    <tr style=\"text-align: right;\">\n",
       "      <th></th>\n",
       "      <th>Close</th>\n",
       "      <th>Open</th>\n",
       "      <th>High</th>\n",
       "      <th>Low</th>\n",
       "      <th>Volume</th>\n",
       "      <th>Change</th>\n",
       "    </tr>\n",
       "    <tr>\n",
       "      <th>Date</th>\n",
       "      <th></th>\n",
       "      <th></th>\n",
       "      <th></th>\n",
       "      <th></th>\n",
       "      <th></th>\n",
       "      <th></th>\n",
       "    </tr>\n",
       "  </thead>\n",
       "  <tbody>\n",
       "    <tr>\n",
       "      <th>1981-05-31</th>\n",
       "      <td>NaN</td>\n",
       "      <td>NaN</td>\n",
       "      <td>NaN</td>\n",
       "      <td>NaN</td>\n",
       "      <td>NaN</td>\n",
       "      <td>NaN</td>\n",
       "    </tr>\n",
       "    <tr>\n",
       "      <th>1981-06-30</th>\n",
       "      <td>15.337333</td>\n",
       "      <td>15.337333</td>\n",
       "      <td>15.337333</td>\n",
       "      <td>15.337333</td>\n",
       "      <td>8.670083e+05</td>\n",
       "      <td>0.005879</td>\n",
       "    </tr>\n",
       "    <tr>\n",
       "      <th>1981-07-31</th>\n",
       "      <td>17.738308</td>\n",
       "      <td>17.738308</td>\n",
       "      <td>17.738308</td>\n",
       "      <td>17.738308</td>\n",
       "      <td>-7.358769e+05</td>\n",
       "      <td>-0.007777</td>\n",
       "    </tr>\n",
       "    <tr>\n",
       "      <th>1981-08-31</th>\n",
       "      <td>-9.474308</td>\n",
       "      <td>-9.474308</td>\n",
       "      <td>-9.474308</td>\n",
       "      <td>-9.474308</td>\n",
       "      <td>-7.538831e+05</td>\n",
       "      <td>-0.001595</td>\n",
       "    </tr>\n",
       "    <tr>\n",
       "      <th>1981-09-30</th>\n",
       "      <td>-3.840000</td>\n",
       "      <td>-3.840000</td>\n",
       "      <td>-3.840000</td>\n",
       "      <td>-3.840000</td>\n",
       "      <td>-5.236000e+04</td>\n",
       "      <td>-0.000072</td>\n",
       "    </tr>\n",
       "    <tr>\n",
       "      <th>...</th>\n",
       "      <td>...</td>\n",
       "      <td>...</td>\n",
       "      <td>...</td>\n",
       "      <td>...</td>\n",
       "      <td>...</td>\n",
       "      <td>...</td>\n",
       "    </tr>\n",
       "    <tr>\n",
       "      <th>2021-04-30</th>\n",
       "      <td>132.614091</td>\n",
       "      <td>131.620455</td>\n",
       "      <td>123.045455</td>\n",
       "      <td>139.362273</td>\n",
       "      <td>1.429773e+08</td>\n",
       "      <td>0.000509</td>\n",
       "    </tr>\n",
       "    <tr>\n",
       "      <th>2021-05-31</th>\n",
       "      <td>4.117344</td>\n",
       "      <td>4.483062</td>\n",
       "      <td>8.946244</td>\n",
       "      <td>-2.705502</td>\n",
       "      <td>-4.228484e+08</td>\n",
       "      <td>-0.000323</td>\n",
       "    </tr>\n",
       "    <tr>\n",
       "      <th>2021-06-30</th>\n",
       "      <td>89.939474</td>\n",
       "      <td>87.953301</td>\n",
       "      <td>82.653301</td>\n",
       "      <td>98.350048</td>\n",
       "      <td>6.182729e+08</td>\n",
       "      <td>0.000346</td>\n",
       "    </tr>\n",
       "    <tr>\n",
       "      <th>2021-07-31</th>\n",
       "      <td>-4.566818</td>\n",
       "      <td>4.773636</td>\n",
       "      <td>-0.315455</td>\n",
       "      <td>-2.020000</td>\n",
       "      <td>-6.455762e+08</td>\n",
       "      <td>-0.002595</td>\n",
       "    </tr>\n",
       "    <tr>\n",
       "      <th>2021-08-31</th>\n",
       "      <td>2.836818</td>\n",
       "      <td>-11.632727</td>\n",
       "      <td>-4.041636</td>\n",
       "      <td>-7.584364</td>\n",
       "      <td>-4.555178e+08</td>\n",
       "      <td>0.005526</td>\n",
       "    </tr>\n",
       "  </tbody>\n",
       "</table>\n",
       "<p>484 rows × 6 columns</p>\n",
       "</div>"
      ]
     },
     "metadata": {},
     "execution_count": 39
    }
   ],
   "metadata": {}
  }
 ],
 "metadata": {
  "orig_nbformat": 4,
  "language_info": {
   "name": "python",
   "version": "3.8.3",
   "mimetype": "text/x-python",
   "codemirror_mode": {
    "name": "ipython",
    "version": 3
   },
   "pygments_lexer": "ipython3",
   "nbconvert_exporter": "python",
   "file_extension": ".py"
  },
  "kernelspec": {
   "name": "python3",
   "display_name": "Python 3.8.3 64-bit ('quant': pyenv)"
  },
  "interpreter": {
   "hash": "b57fa1ea086f150b79c587ca939a18867894e917e0a1787af18be062640517e4"
  }
 },
 "nbformat": 4,
 "nbformat_minor": 2
}