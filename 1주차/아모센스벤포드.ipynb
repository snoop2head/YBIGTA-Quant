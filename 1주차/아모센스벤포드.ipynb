{
 "cells": [
  {
   "cell_type": "code",
   "execution_count": 1,
   "id": "75825fdc",
   "metadata": {},
   "outputs": [],
   "source": [
    "%matplotlib inline\n",
    "import matplotlib.pylab as plt"
   ]
  },
  {
   "cell_type": "code",
   "execution_count": 6,
   "id": "c46ae6b8",
   "metadata": {},
   "outputs": [
    {
     "name": "stdout",
     "output_type": "stream",
     "text": [
      "0.3010\n",
      "0.1761\n",
      "0.1249\n",
      "0.0969\n",
      "0.0792\n",
      "0.0669\n",
      "0.0580\n",
      "0.0512\n",
      "0.0458\n"
     ]
    }
   ],
   "source": [
    "plt.rcParams[\"figure.figsize\"] = (12, 6)\n",
    "plt.rcParams['axes.grid'] = True \n",
    "plt.rcParams['lines.linewidth'] = 2\n",
    "for d in range(1, 10):\n",
    "  v = np.log10((d+1)/d)\n",
    "  print('{:.4f}'.format(v))\n",
    "benford_values =  {d:np.log10((d+1)/d) for d in range(1,10)}\n",
    "benford_values\n",
    "df = pd.DataFrame({'benford': benford_values})\n"
   ]
  },
  {
   "cell_type": "code",
   "execution_count": 7,
   "id": "8a3d05c6",
   "metadata": {},
   "outputs": [
    {
     "data": {
      "text/html": [
       "<div>\n",
       "<style scoped>\n",
       "    .dataframe tbody tr th:only-of-type {\n",
       "        vertical-align: middle;\n",
       "    }\n",
       "\n",
       "    .dataframe tbody tr th {\n",
       "        vertical-align: top;\n",
       "    }\n",
       "\n",
       "    .dataframe thead th {\n",
       "        text-align: right;\n",
       "    }\n",
       "</style>\n",
       "<table border=\"1\" class=\"dataframe\">\n",
       "  <thead>\n",
       "    <tr style=\"text-align: right;\">\n",
       "      <th></th>\n",
       "      <th>benford</th>\n",
       "    </tr>\n",
       "  </thead>\n",
       "  <tbody>\n",
       "    <tr>\n",
       "      <th>1</th>\n",
       "      <td>0.301030</td>\n",
       "    </tr>\n",
       "    <tr>\n",
       "      <th>2</th>\n",
       "      <td>0.176091</td>\n",
       "    </tr>\n",
       "    <tr>\n",
       "      <th>3</th>\n",
       "      <td>0.124939</td>\n",
       "    </tr>\n",
       "    <tr>\n",
       "      <th>4</th>\n",
       "      <td>0.096910</td>\n",
       "    </tr>\n",
       "    <tr>\n",
       "      <th>5</th>\n",
       "      <td>0.079181</td>\n",
       "    </tr>\n",
       "    <tr>\n",
       "      <th>6</th>\n",
       "      <td>0.066947</td>\n",
       "    </tr>\n",
       "    <tr>\n",
       "      <th>7</th>\n",
       "      <td>0.057992</td>\n",
       "    </tr>\n",
       "    <tr>\n",
       "      <th>8</th>\n",
       "      <td>0.051153</td>\n",
       "    </tr>\n",
       "    <tr>\n",
       "      <th>9</th>\n",
       "      <td>0.045757</td>\n",
       "    </tr>\n",
       "  </tbody>\n",
       "</table>\n",
       "</div>"
      ],
      "text/plain": [
       "    benford\n",
       "1  0.301030\n",
       "2  0.176091\n",
       "3  0.124939\n",
       "4  0.096910\n",
       "5  0.079181\n",
       "6  0.066947\n",
       "7  0.057992\n",
       "8  0.051153\n",
       "9  0.045757"
      ]
     },
     "execution_count": 7,
     "metadata": {},
     "output_type": "execute_result"
    }
   ],
   "source": [
    "df"
   ]
  },
  {
   "cell_type": "code",
   "execution_count": 8,
   "id": "7c81ea49",
   "metadata": {},
   "outputs": [],
   "source": [
    "import re\n",
    "import numpy as np\n",
    "\n",
    "def benford(df_list, plot=True):\n",
    "  val_list = []\n",
    "  # 전달된 데이터프레임 리스트에서 숫자 문자열만 추출\n",
    "  for df in df_list:\n",
    "    df = df.astype(str)\n",
    "    # 특정 문자열을 포함하는 데이터프레임만 대상\n",
    "    if any(x in df.to_html() for x in ['유동자산', '매출원가', '포괄손익', '현금흐름', '당기순이익']):\n",
    "      values = df.replace('[^0-9]', '', regex=True).values.reshape(-1)\n",
    "      val_list.extend(values)\n",
    "\n",
    "  # 첫 글자 목록 추출\n",
    "  leading_digits = [int(v[0]) for v in val_list if v]\n",
    "\n",
    "  # 개수 세기\n",
    "  counter = {i:0 for i in range(1, 10)}\n",
    "  for i in leading_digits:\n",
    "    counter[i] =  counter.get(i, 0) + 1\n",
    "\n",
    "  # 비율 구하기\n",
    "  total = sum(counter.values())\n",
    "  finstat_ratio = {i: counter[i]/total for i in counter.keys()}\n",
    "\n",
    "  # 데이터 프레임을 생성하여 반환\n",
    "  benford_values =  {d:np.log10((d+1)/d) for d in range(1,10)}\n",
    "  df_ratio = pd.DataFrame({\n",
    "    'benford': benford_values,\n",
    "    'finstat': finstat_ratio\n",
    "  })\n",
    "  if plot:\n",
    "    df_ratio.plot()\n",
    "  return df_ratio\n",
    "\n",
    "# return RMSE와 최대오차(max)\n",
    "def benford_desc(df_list):\n",
    "  df = benford(df_list, plot=False)\n",
    "  rmse = ((df['finstat'] - df['benford']) ** 2).mean() ** 0.5\n",
    "  max_err = np.abs(df['finstat'] - df['benford']).max()\n",
    "  return rmse, max_err"
   ]
  },
  {
   "cell_type": "code",
   "execution_count": 12,
   "id": "a89f567d",
   "metadata": {},
   "outputs": [
    {
     "data": {
      "text/plain": [
       "299"
      ]
     },
     "execution_count": 12,
     "metadata": {},
     "output_type": "execute_result"
    }
   ],
   "source": [
    "url = 'http://dart.fss.or.kr/report/viewer.do?rcpNo=20210401000355&dcmNo=7945637&eleId=3&offset=11657&length=549224&dtd=dart3.xsd'\n",
    "dfs = pd.read_html(url)\n",
    "len(dfs)"
   ]
  },
  {
   "cell_type": "code",
   "execution_count": 15,
   "id": "c59af738",
   "metadata": {},
   "outputs": [
    {
     "data": {
      "text/html": [
       "<div>\n",
       "<style scoped>\n",
       "    .dataframe tbody tr th:only-of-type {\n",
       "        vertical-align: middle;\n",
       "    }\n",
       "\n",
       "    .dataframe tbody tr th {\n",
       "        vertical-align: top;\n",
       "    }\n",
       "\n",
       "    .dataframe thead th {\n",
       "        text-align: right;\n",
       "    }\n",
       "</style>\n",
       "<table border=\"1\" class=\"dataframe\">\n",
       "  <thead>\n",
       "    <tr style=\"text-align: right;\">\n",
       "      <th></th>\n",
       "      <th>benford</th>\n",
       "      <th>finstat</th>\n",
       "    </tr>\n",
       "  </thead>\n",
       "  <tbody>\n",
       "    <tr>\n",
       "      <th>1</th>\n",
       "      <td>0.301030</td>\n",
       "      <td>0.330498</td>\n",
       "    </tr>\n",
       "    <tr>\n",
       "      <th>2</th>\n",
       "      <td>0.176091</td>\n",
       "      <td>0.178615</td>\n",
       "    </tr>\n",
       "    <tr>\n",
       "      <th>3</th>\n",
       "      <td>0.124939</td>\n",
       "      <td>0.137303</td>\n",
       "    </tr>\n",
       "    <tr>\n",
       "      <th>4</th>\n",
       "      <td>0.096910</td>\n",
       "      <td>0.089915</td>\n",
       "    </tr>\n",
       "    <tr>\n",
       "      <th>5</th>\n",
       "      <td>0.079181</td>\n",
       "      <td>0.070474</td>\n",
       "    </tr>\n",
       "    <tr>\n",
       "      <th>6</th>\n",
       "      <td>0.066947</td>\n",
       "      <td>0.074119</td>\n",
       "    </tr>\n",
       "    <tr>\n",
       "      <th>7</th>\n",
       "      <td>0.057992</td>\n",
       "      <td>0.026731</td>\n",
       "    </tr>\n",
       "    <tr>\n",
       "      <th>8</th>\n",
       "      <td>0.051153</td>\n",
       "      <td>0.061968</td>\n",
       "    </tr>\n",
       "    <tr>\n",
       "      <th>9</th>\n",
       "      <td>0.045757</td>\n",
       "      <td>0.027947</td>\n",
       "    </tr>\n",
       "    <tr>\n",
       "      <th>0</th>\n",
       "      <td>NaN</td>\n",
       "      <td>0.002430</td>\n",
       "    </tr>\n",
       "  </tbody>\n",
       "</table>\n",
       "</div>"
      ],
      "text/plain": [
       "    benford   finstat\n",
       "1  0.301030  0.330498\n",
       "2  0.176091  0.178615\n",
       "3  0.124939  0.137303\n",
       "4  0.096910  0.089915\n",
       "5  0.079181  0.070474\n",
       "6  0.066947  0.074119\n",
       "7  0.057992  0.026731\n",
       "8  0.051153  0.061968\n",
       "9  0.045757  0.027947\n",
       "0       NaN  0.002430"
      ]
     },
     "execution_count": 15,
     "metadata": {},
     "output_type": "execute_result"
    },
    {
     "data": {
      "image/png": "[encoded data removed]",
      "text/plain": [
       "<Figure size 864x432 with 1 Axes>"
      ]
     },
     "metadata": {
      "needs_background": "light"
     },
     "output_type": "display_data"
    }
   ],
   "source": [
    "df = benford(dfs)\n",
    "df"
   ]
  },
  {
   "cell_type": "code",
   "execution_count": 14,
   "id": "c4bbe1d4",
   "metadata": {},
   "outputs": [
    {
     "data": {
      "text/plain": [
       "(0.017046432851673697, 0.031260476746824035)"
      ]
     },
     "execution_count": 14,
     "metadata": {},
     "output_type": "execute_result"
    }
   ],
   "source": [
    "benford_desc(dfs)"
   ]
  }
 ],
 "metadata": {
  "kernelspec": {
   "display_name": "Python 3",
   "language": "python",
   "name": "python3"
  },
  "language_info": {
   "codemirror_mode": {
    "name": "ipython",
    "version": 3
   },
   "file_extension": ".py",
   "mimetype": "text/x-python",
   "name": "python",
   "nbconvert_exporter": "python",
   "pygments_lexer": "ipython3",
   "version": "3.8.11"
  }
 },
 "nbformat": 4,
 "nbformat_minor": 5
}
